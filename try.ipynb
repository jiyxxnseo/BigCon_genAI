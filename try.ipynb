{
 "cells": [
  {
   "cell_type": "code",
   "execution_count": 2,
   "metadata": {},
   "outputs": [],
   "source": [
    "import pandas as pd\n",
    "import numpy as np"
   ]
  },
  {
   "cell_type": "code",
   "execution_count": 3,
   "metadata": {},
   "outputs": [
    {
     "name": "stdout",
     "output_type": "stream",
     "text": [
      "Index(['기준연월', '가맹점명', '개설일자', '판매음식종류', '지역', '이용건수', '이용금액', '건당평균이용금액',\n",
      "       '월요일이용건수비중', '화요일이용건수비중', '수요일이용건수비중', '목요일이용건수비중', '금요일이용건수비중',\n",
      "       '토요일이용건수비중', '일요일이용건수비중', '5시11시이용건수비중', '12시13시이용건수비중', '14시17시이용건수비중',\n",
      "       '18시22시이용건수비중', '23시4시이용건수비중', '현지인이용비중', '최근12개월남성회원수비중',\n",
      "       '최근12개월여성회원수비중', '20대이하고객수비중', '30대고객수비중', '40대고객수비중', '50대고객수비중',\n",
      "       '60대이상고객수비중', 'text'],\n",
      "      dtype='object')\n"
     ]
    }
   ],
   "source": [
    "df= pd.read_csv('/root/BigCon_genAI/data/shinhancard_data_with_text.csv')\n",
    "\n",
    "\n",
    "print(df.columns)"
   ]
  },
  {
   "cell_type": "code",
   "execution_count": 10,
   "metadata": {},
   "outputs": [
    {
     "name": "stdout",
     "output_type": "stream",
     "text": [
      "30\n"
     ]
    }
   ],
   "source": [
    "print(len(df['판매음식종류'].unique()))"
   ]
  },
  {
   "cell_type": "code",
   "execution_count": 11,
   "metadata": {},
   "outputs": [
    {
     "data": {
      "text/plain": [
       "array(['커피', '가정식', '단품요리 전문', '맥주/요리주점', '베이커리', '분식', '양식', '중식', '치킨',\n",
       "       '일식', '구내식당/푸드코트', '샌드위치/토스트', '햄버거', '꼬치구이', '아이스크림/빙수', '피자',\n",
       "       '떡/한과', '포장마차', '도너츠', '차', '도시락', '주스', '동남아/인도음식', '기사식당',\n",
       "       '기타세계요리', '스테이크', '야식', '패밀리 레스토랑', '부페', '민속주점'], dtype=object)"
      ]
     },
     "execution_count": 11,
     "metadata": {},
     "output_type": "execute_result"
    }
   ],
   "source": [
    "df['판매음식종류'].unique()"
   ]
  },
  {
   "cell_type": "code",
   "execution_count": 20,
   "metadata": {},
   "outputs": [],
   "source": [
    "dining_types = [\n",
    "    '가정식', '단품요리 전문', '일식', '치킨', '중식', '분식', '햄버거', '양식', '맥주/요리주점', '피자', \n",
    "    '샌드위치/토스트', '꼬치구이', '기타세계요리', '구내식당/푸드코트', '도시락', '동남아/인도음식', \n",
    "    '패밀리 레스토랑', '기사식당', '야식', '스테이크', '포장마차', '부페', '민속주점'\n",
    "]\n",
    "cafe_types = [\n",
    "    '커피', '베이커리', '아이스크림/빙수', '차', '떡/한과', '도너츠', '주스', '샌드위치/토스트'\n",
    "]\n",
    "\n",
    "# Create the 목적 column based on conditions\n",
    "df['목적'] = df['판매음식종류'].apply(lambda x: '식사' if x in dining_types else ('카페/디저트' if x in cafe_types else '기타'))\n"
   ]
  },
  {
   "cell_type": "code",
   "execution_count": 21,
   "metadata": {},
   "outputs": [
    {
     "data": {
      "text/plain": [
       "0       카페/디저트\n",
       "1           식사\n",
       "2           식사\n",
       "3           식사\n",
       "4           식사\n",
       "         ...  \n",
       "9385    카페/디저트\n",
       "9386        식사\n",
       "9387        식사\n",
       "9388        식사\n",
       "9389        식사\n",
       "Name: 목적, Length: 9390, dtype: object"
      ]
     },
     "execution_count": 21,
     "metadata": {},
     "output_type": "execute_result"
    }
   ],
   "source": [
    "df['목적']"
   ]
  },
  {
   "cell_type": "code",
   "execution_count": 23,
   "metadata": {},
   "outputs": [
    {
     "data": {
      "text/plain": [
       "0            제주 제주시 연동 260-21번지 1층\n",
       "1                 제주 제주시 노형동 668번지\n",
       "2              제주 제주시 노형동 1291-3번지\n",
       "3       제주 제주시 구좌읍 종달리 1935-1번지 1층\n",
       "4            제주 제주시 연동 291-24번지 연동\n",
       "                   ...            \n",
       "9385       제주 제주시 삼도이동 1120-2번지 1층\n",
       "9386    제주 서귀포시 안덕면 상창리 883-2번지 1층\n",
       "9387        제주 제주시 노형동 937-11번지 3층\n",
       "9388      제주 제주시 이도이동 1767-32번지 3층\n",
       "9389        제주 제주시 이도이동 408-1번지 2층\n",
       "Name: 지역, Length: 9390, dtype: object"
      ]
     },
     "execution_count": 23,
     "metadata": {},
     "output_type": "execute_result"
    }
   ],
   "source": [
    "df['지역']"
   ]
  },
  {
   "cell_type": "code",
   "execution_count": 22,
   "metadata": {},
   "outputs": [],
   "source": [
    "# 'address_2'에서 첫 세 단어를 추출하는 함수 정의\n",
    "def extract_address_map(address):\n",
    "    if isinstance(address, str):  # 값이 문자열인지 확인\n",
    "        return ' '.join(address.split()[:3])\n",
    "    else:\n",
    "        return None  # 문자열이 아닌 값에 대해 None 반환"
   ]
  },
  {
   "cell_type": "code",
   "execution_count": 24,
   "metadata": {},
   "outputs": [],
   "source": [
    "df['address_map'] = df['지역'].apply(extract_address_map)"
   ]
  },
  {
   "cell_type": "code",
   "execution_count": 50,
   "metadata": {},
   "outputs": [
    {
     "data": {
      "text/plain": [
       "array(['제주 제주시 연동', '제주 제주시 노형동', '제주 제주시 구좌읍', '제주 제주시 이도이동',\n",
       "       '제주 서귀포시 성산읍', '제주 제주시 조천읍', '제주 제주시 외도일동', '제주 제주시 건입동',\n",
       "       '제주 제주시 용담삼동', '제주 제주시 이도일동', '제주 서귀포시 도순동', '제주 서귀포시 대정읍',\n",
       "       '제주 제주시 아라일동', '제주 제주시 화북일동', '제주 제주시 애월읍', '제주 제주시 용담일동',\n",
       "       '제주 서귀포시 서귀동', '제주 제주시 한림읍', '제주 제주시 한경면', '제주 제주시 오라이동',\n",
       "       '제주 서귀포시 서호동', '제주 서귀포시 서홍동', '제주 제주시 도련일동', '제주 제주시 영평동',\n",
       "       '제주 제주시 일도이동', '제주 제주시 해안동', '제주 서귀포시 중문동', '제주 서귀포시 안덕면',\n",
       "       '제주 서귀포시 색달동', '제주 서귀포시 하효동', '제주 서귀포시 동홍동', '제주 서귀포시 하예동',\n",
       "       '제주 제주시 용담이동', '제주 서귀포시 강정동', '제주 제주시 삼도이동', '제주 제주시 도남동',\n",
       "       '제주 제주시 도두일동', '제주 제주시 삼양이동', '제주 제주시 일도일동', '제주 서귀포시 남원읍',\n",
       "       '제주 제주시 우도면', '제주 제주시 화북이동', '제주 제주시 월평동', '제주 제주시 봉개동',\n",
       "       '제주 제주시 도련이동', '제주 서귀포시 표선면', '제주 제주시 오라삼동', '제주 제주시 오라일동',\n",
       "       '제주 서귀포시 대포동', '제주 서귀포시 하원동', '제주 제주시 아라이동', '제주 제주시 이호일동',\n",
       "       '제주 제주시 삼도일동', '제주 서귀포시 신효동', '제주 서귀포시 토평동', '제주 서귀포시 보목동',\n",
       "       '제주 제주시 외도이동', '제주 서귀포시 회수동', '제주 서귀포시 호근동', '제주 제주시 도두이동',\n",
       "       '제주 서귀포시 법환동', '제주 제주시 회천동', '제주 제주시 오등동', '제주 서귀포시 상예동',\n",
       "       '제주 제주시 내도동', '제주 서귀포시 상효동', '제주 제주시 삼양일동', '제주 제주시 삼양삼동',\n",
       "       '제주 제주시 도평동', '제주 제주시 이호이동', '', '제주 제주시 이도2동', '제주 서귀포시 월평동',\n",
       "       '제주 제주시 추자면', '제주 서귀포시 영남동'], dtype=object)"
      ]
     },
     "execution_count": 50,
     "metadata": {},
     "output_type": "execute_result"
    }
   ],
   "source": [
    "df['address_map'].unique()"
   ]
  },
  {
   "cell_type": "code",
   "execution_count": 26,
   "metadata": {},
   "outputs": [],
   "source": [
    "# 고유한 'address_map' 값의 개수 확인\n",
    "unique_address_map_count = df['address_map'].nunique()\n"
   ]
  },
  {
   "cell_type": "code",
   "execution_count": 27,
   "metadata": {},
   "outputs": [
    {
     "data": {
      "text/plain": [
       "75"
      ]
     },
     "execution_count": 27,
     "metadata": {},
     "output_type": "execute_result"
    }
   ],
   "source": [
    "unique_address_map_count"
   ]
  },
  {
   "cell_type": "code",
   "execution_count": 28,
   "metadata": {},
   "outputs": [],
   "source": [
    "grouped_df = df.groupby('address_map')['가맹점명'].apply(list).reset_index()"
   ]
  },
  {
   "cell_type": "code",
   "execution_count": 48,
   "metadata": {},
   "outputs": [
    {
     "data": {
      "text/html": [
       "<div>\n",
       "<style scoped>\n",
       "    .dataframe tbody tr th:only-of-type {\n",
       "        vertical-align: middle;\n",
       "    }\n",
       "\n",
       "    .dataframe tbody tr th {\n",
       "        vertical-align: top;\n",
       "    }\n",
       "\n",
       "    .dataframe thead th {\n",
       "        text-align: right;\n",
       "    }\n",
       "</style>\n",
       "<table border=\"1\" class=\"dataframe\">\n",
       "  <thead>\n",
       "    <tr style=\"text-align: right;\">\n",
       "      <th></th>\n",
       "      <th>address_map</th>\n",
       "      <th>가맹점명</th>\n",
       "    </tr>\n",
       "  </thead>\n",
       "  <tbody>\n",
       "    <tr>\n",
       "      <th>0</th>\n",
       "      <td></td>\n",
       "      <td>[돈삼춘]</td>\n",
       "    </tr>\n",
       "  </tbody>\n",
       "</table>\n",
       "</div>"
      ],
      "text/plain": [
       "  address_map   가맹점명\n",
       "0              [돈삼춘]"
      ]
     },
     "execution_count": 48,
     "metadata": {},
     "output_type": "execute_result"
    }
   ],
   "source": [
    "grouped_df[grouped_df['address_map']=='']"
   ]
  },
  {
   "cell_type": "code",
   "execution_count": 37,
   "metadata": {},
   "outputs": [],
   "source": [
    "# 제외할 읍면 리스트 정의\n",
    "exclude_list = [\n",
    "    \"제주 서귀포시 남원읍\", \"제주 서귀포시 대정읍\", \"제주 서귀포시 성산읍\", \n",
    "    \"제주 서귀포시 안덕면\", \"제주 서귀포시 표선면\", \n",
    "    \"제주 제주시 구좌읍\", \"제주 제주시 애월읍\", \"제주 제주시 우도면\", \n",
    "    \"제주 제주시 조천읍\", \"제주 제주시 한경면\", \"제주 제주시 한림읍\", \"제주 제주시 추자면\"\n",
    "]\n"
   ]
  },
  {
   "cell_type": "code",
   "execution_count": 45,
   "metadata": {},
   "outputs": [
    {
     "data": {
      "text/plain": [
       "12"
      ]
     },
     "execution_count": 45,
     "metadata": {},
     "output_type": "execute_result"
    }
   ],
   "source": [
    "len(exclude_list)"
   ]
  },
  {
   "cell_type": "code",
   "execution_count": 61,
   "metadata": {},
   "outputs": [
    {
     "data": {
      "text/plain": [
       "15"
      ]
     },
     "execution_count": 61,
     "metadata": {},
     "output_type": "execute_result"
    }
   ],
   "source": [
    "len(['제주시 (제주특별자치도 북부)', '서귀포시 성산읍', '제주시 한림읍', '서귀포시 (제주특별자치도 남부)',\n",
    "       '제주시 애월읍', '서귀포시 대정읍', '제주시 한경면', '제주시 조천읍', '제주시 추자면', '서귀포시 표선면', '제주시 구좌읍',\n",
    "       '서귀포시 안덕면', '서귀포시 남원읍', '서울 관악구 봉천동', '제주시 우도면'])"
   ]
  },
  {
   "cell_type": "code",
   "execution_count": 67,
   "metadata": {},
   "outputs": [
    {
     "data": {
      "text/plain": [
       "array(['제주시 연동', '제주시 노형동', '제주시 구좌읍', '제주시 이도이동', '서귀포시 성산읍', '제주시 조천읍',\n",
       "       '제주시 외도일동', '제주시 건입동', '제주시 용담삼동', '제주시 이도일동', '서귀포시 도순동',\n",
       "       '서귀포시 대정읍', '제주시 아라일동', '제주시 화북일동', '제주시 애월읍', '제주시 용담일동',\n",
       "       '서귀포시 서귀동', '제주시 한림읍', '제주시 한경면', '제주시 오라이동', '서귀포시 서호동',\n",
       "       '서귀포시 서홍동', '제주시 도련일동', '제주시 영평동', '제주시 일도이동', '제주시 해안동',\n",
       "       '서귀포시 중문동', '서귀포시 안덕면', '서귀포시 색달동', '서귀포시 하효동', '서귀포시 동홍동',\n",
       "       '서귀포시 하예동', '제주시 용담이동', '서귀포시 강정동', '제주시 삼도이동', '제주시 도남동',\n",
       "       '제주시 도두일동', '제주시 삼양이동', '제주시 일도일동', '서귀포시 남원읍', '제주시 우도면',\n",
       "       '제주시 화북이동', '제주시 월평동', '제주시 봉개동', '제주시 도련이동', '서귀포시 표선면',\n",
       "       '제주시 오라삼동', '제주시 오라일동', '서귀포시 대포동', '서귀포시 하원동', '제주시 아라이동',\n",
       "       '제주시 이호일동', '제주시 삼도일동', '서귀포시 신효동', '서귀포시 토평동', '서귀포시 보목동',\n",
       "       '제주시 외도이동', '서귀포시 회수동', '서귀포시 호근동', '제주시 도두이동', '서귀포시 법환동',\n",
       "       '제주시 회천동', '제주시 오등동', '서귀포시 상예동', '제주시 내도동', '서귀포시 상효동',\n",
       "       '제주시 삼양일동', '제주시 삼양삼동', '제주시 도평동', '제주시 이호이동', '', '제주시 이도2동',\n",
       "       '서귀포시 월평동', '제주시 추자면', '서귀포시 영남동'], dtype=object)"
      ]
     },
     "execution_count": 67,
     "metadata": {},
     "output_type": "execute_result"
    }
   ],
   "source": [
    "df['address_map'].unique()"
   ]
  },
  {
   "cell_type": "code",
   "execution_count": 64,
   "metadata": {},
   "outputs": [],
   "source": [
    "address_list = [\n",
    "    \"서귀포시 남원읍\", \"서귀포시 대정읍\", \"서귀포시 성산읍\", \"서귀포시 안덕면\", \"서귀포시 표선면\",\n",
    "    \"제주시 구좌읍\", \"제주시 애월읍\", \"제주시 우도면\", \"제주시 조천읍\", \"제주시 한경면\", \"제주시 한림읍\", \"제주시 추자면\"\n",
    "]"
   ]
  },
  {
   "cell_type": "code",
   "execution_count": 68,
   "metadata": {},
   "outputs": [],
   "source": [
    "def categorize_address(address):\n",
    "    if address in address_list:\n",
    "        return address\n",
    "    elif address.startswith('제주시'):\n",
    "        return '제주시 (제주특별자치도 북부)'\n",
    "    elif address.startswith('서귀포시'):\n",
    "        return '서귀포시 (제주특별자치도 남부)'\n",
    "    else:\n",
    "        return 'NA'"
   ]
  },
  {
   "cell_type": "code",
   "execution_count": 69,
   "metadata": {},
   "outputs": [],
   "source": [
    "df['address_map'] = df['address_map'].apply(categorize_address)"
   ]
  },
  {
   "cell_type": "code",
   "execution_count": 71,
   "metadata": {},
   "outputs": [
    {
     "data": {
      "text/html": [
       "<div>\n",
       "<style scoped>\n",
       "    .dataframe tbody tr th:only-of-type {\n",
       "        vertical-align: middle;\n",
       "    }\n",
       "\n",
       "    .dataframe tbody tr th {\n",
       "        vertical-align: top;\n",
       "    }\n",
       "\n",
       "    .dataframe thead th {\n",
       "        text-align: right;\n",
       "    }\n",
       "</style>\n",
       "<table border=\"1\" class=\"dataframe\">\n",
       "  <thead>\n",
       "    <tr style=\"text-align: right;\">\n",
       "      <th></th>\n",
       "      <th>기준연월</th>\n",
       "      <th>가맹점명</th>\n",
       "      <th>개설일자</th>\n",
       "      <th>판매음식종류</th>\n",
       "      <th>지역</th>\n",
       "      <th>이용건수</th>\n",
       "      <th>이용금액</th>\n",
       "      <th>건당평균이용금액</th>\n",
       "      <th>월요일이용건수비중</th>\n",
       "      <th>화요일이용건수비중</th>\n",
       "      <th>...</th>\n",
       "      <th>최근12개월남성회원수비중</th>\n",
       "      <th>최근12개월여성회원수비중</th>\n",
       "      <th>20대이하고객수비중</th>\n",
       "      <th>30대고객수비중</th>\n",
       "      <th>40대고객수비중</th>\n",
       "      <th>50대고객수비중</th>\n",
       "      <th>60대이상고객수비중</th>\n",
       "      <th>text</th>\n",
       "      <th>목적</th>\n",
       "      <th>address_map</th>\n",
       "    </tr>\n",
       "  </thead>\n",
       "  <tbody>\n",
       "    <tr>\n",
       "      <th>2448</th>\n",
       "      <td>202312</td>\n",
       "      <td>돈삼춘</td>\n",
       "      <td>20170728</td>\n",
       "      <td>가정식</td>\n",
       "      <td></td>\n",
       "      <td>6_90% 초과(하위 10% 이하)</td>\n",
       "      <td>4_50~75%</td>\n",
       "      <td>2_10~25%</td>\n",
       "      <td>0.25</td>\n",
       "      <td>0.05</td>\n",
       "      <td>...</td>\n",
       "      <td>0.625</td>\n",
       "      <td>0.375</td>\n",
       "      <td>0.17</td>\n",
       "      <td>0.213</td>\n",
       "      <td>0.277</td>\n",
       "      <td>0.273</td>\n",
       "      <td>0.067</td>\n",
       "      <td>돈삼춘의 업종은 가정식, 위치는  입니다. 이용건수는 동일 업종 내 상위 6_90%...</td>\n",
       "      <td>식사</td>\n",
       "      <td>NA</td>\n",
       "    </tr>\n",
       "  </tbody>\n",
       "</table>\n",
       "<p>1 rows × 31 columns</p>\n",
       "</div>"
      ],
      "text/plain": [
       "        기준연월 가맹점명      개설일자 판매음식종류 지역                 이용건수      이용금액  \\\n",
       "2448  202312  돈삼춘  20170728    가정식     6_90% 초과(하위 10% 이하)  4_50~75%   \n",
       "\n",
       "      건당평균이용금액  월요일이용건수비중  화요일이용건수비중  ...  최근12개월남성회원수비중  최근12개월여성회원수비중  \\\n",
       "2448  2_10~25%       0.25       0.05  ...          0.625          0.375   \n",
       "\n",
       "      20대이하고객수비중  30대고객수비중  40대고객수비중  50대고객수비중  60대이상고객수비중  \\\n",
       "2448        0.17     0.213     0.277     0.273       0.067   \n",
       "\n",
       "                                                   text  목적  address_map  \n",
       "2448  돈삼춘의 업종은 가정식, 위치는  입니다. 이용건수는 동일 업종 내 상위 6_90%...  식사           NA  \n",
       "\n",
       "[1 rows x 31 columns]"
      ]
     },
     "execution_count": 71,
     "metadata": {},
     "output_type": "execute_result"
    }
   ],
   "source": [
    "df[df['address_map']=='NA']"
   ]
  },
  {
   "cell_type": "code",
   "execution_count": 63,
   "metadata": {},
   "outputs": [
    {
     "data": {
      "text/plain": [
       "11"
      ]
     },
     "execution_count": 63,
     "metadata": {},
     "output_type": "execute_result"
    }
   ],
   "source": [
    "len(address_list)"
   ]
  },
  {
   "cell_type": "code",
   "execution_count": null,
   "metadata": {},
   "outputs": [],
   "source": [
    "final_cat= ['서귀포시 성산읍', '제주시 한림읍',\n",
    "       '제주시 애월읍', '서귀포시 대정읍', '제주시 한경면', '제주시 조천읍', '제주시 추자면', '서귀포시 표선면', '제주시 구좌읍',\n",
    "       '서귀포시 안덕면', '서귀포시 남원읍', '서울 관악구 봉천동', '제주시 우도면']"
   ]
  },
  {
   "cell_type": "code",
   "execution_count": 31,
   "metadata": {},
   "outputs": [],
   "source": [
    "df_cleaned= grouped_df.copy()"
   ]
  },
  {
   "cell_type": "code",
   "execution_count": 40,
   "metadata": {},
   "outputs": [],
   "source": [
    "df2= pd.read_csv(\"/root/BigCon_genAI/data/crawled_kakao_restaurant_with_address_map_text2.csv\")"
   ]
  },
  {
   "cell_type": "code",
   "execution_count": 41,
   "metadata": {},
   "outputs": [
    {
     "data": {
      "text/plain": [
       "Index(['Unnamed: 0', 'restaurant_name', 'restaurant_name_2', 'address_1',\n",
       "       'address_2', 'address_map', 'category', 'business_hours', 'tags',\n",
       "       'restaurant_info', 'restaurant_facility', 'restaurant_introduction',\n",
       "       'total_reviews', 'overall_rating', 'menu_info', 'all_reviews',\n",
       "       'review_match', 'keyword', 'text2'],\n",
       "      dtype='object')"
      ]
     },
     "execution_count": 41,
     "metadata": {},
     "output_type": "execute_result"
    }
   ],
   "source": [
    "df2.columns"
   ]
  },
  {
   "cell_type": "code",
   "execution_count": 59,
   "metadata": {},
   "outputs": [
    {
     "data": {
      "text/plain": [
       "array(['제주시 (제주특별자치도 북부)', '서귀포시 성산읍', '제주시 한림읍', '서귀포시 (제주특별자치도 남부)',\n",
       "       '제주시 애월읍', '서귀포시 대정읍', '제주시 한경면', '제주시 조천읍', '서귀포시 표선면', '제주시 구좌읍',\n",
       "       '서귀포시 안덕면', '서귀포시 남원읍', '서울 관악구 봉천동', '제주시 우도면', nan, '서울 은평구 진관동',\n",
       "       '경기 고양시 오금동', '광주 북구 양산동', '경기 고양시 대화동', '경기 고양시 지번지',\n",
       "       '서울 강남구 역삼동', '서울 강남구 일원동', '경기 부천시 춘의동', '서울 금천구 시흥동',\n",
       "       '경남 창원시 상남동'], dtype=object)"
      ]
     },
     "execution_count": 59,
     "metadata": {},
     "output_type": "execute_result"
    }
   ],
   "source": [
    "df2['address_map'].unique()"
   ]
  },
  {
   "cell_type": "code",
   "execution_count": 60,
   "metadata": {},
   "outputs": [
    {
     "data": {
      "text/plain": [
       "14"
      ]
     },
     "execution_count": 60,
     "metadata": {},
     "output_type": "execute_result"
    }
   ],
   "source": [
    "len(['제주시 (제주특별자치도 북부)', '서귀포시 성산읍', '제주시 한림읍', '서귀포시 (제주특별자치도 남부)',\n",
    "       '제주시 애월읍', '서귀포시 대정읍', '제주시 한경면', '제주시 조천읍', '서귀포시 표선면', '제주시 구좌읍',\n",
    "       '서귀포시 안덕면', '서귀포시 남원읍', '서울 관악구 봉천동', '제주시 우도면'])"
   ]
  },
  {
   "cell_type": "code",
   "execution_count": 52,
   "metadata": {},
   "outputs": [],
   "source": [
    "df['address_map'] = df['address_map'].str.replace('제주 ', '', regex=True)"
   ]
  },
  {
   "cell_type": "code",
   "execution_count": null,
   "metadata": {},
   "outputs": [],
   "source": [
    "df[df['address_map']=='제주시 추자면']"
   ]
  },
  {
   "cell_type": "code",
   "execution_count": 57,
   "metadata": {},
   "outputs": [
    {
     "data": {
      "text/plain": [
       "0         제주시 연동\n",
       "1        제주시 노형동\n",
       "2        제주시 노형동\n",
       "3        제주시 구좌읍\n",
       "4         제주시 연동\n",
       "          ...   \n",
       "9385    제주시 삼도이동\n",
       "9386    서귀포시 안덕면\n",
       "9387     제주시 노형동\n",
       "9388    제주시 이도이동\n",
       "9389    제주시 이도이동\n",
       "Name: address_map, Length: 9390, dtype: object"
      ]
     },
     "execution_count": 57,
     "metadata": {},
     "output_type": "execute_result"
    }
   ],
   "source": [
    "df['address_map']"
   ]
  },
  {
   "cell_type": "code",
   "execution_count": 73,
   "metadata": {},
   "outputs": [],
   "source": [
    "df.to_csv('/root/BigCon_genAI/data/modified_shinhancard_data_with_text.csv', index=False)"
   ]
  },
  {
   "cell_type": "code",
   "execution_count": 74,
   "metadata": {},
   "outputs": [
    {
     "data": {
      "text/plain": [
       "Index(['기준연월', '가맹점명', '개설일자', '판매음식종류', '지역', '이용건수', '이용금액', '건당평균이용금액',\n",
       "       '월요일이용건수비중', '화요일이용건수비중', '수요일이용건수비중', '목요일이용건수비중', '금요일이용건수비중',\n",
       "       '토요일이용건수비중', '일요일이용건수비중', '5시11시이용건수비중', '12시13시이용건수비중', '14시17시이용건수비중',\n",
       "       '18시22시이용건수비중', '23시4시이용건수비중', '현지인이용비중', '최근12개월남성회원수비중',\n",
       "       '최근12개월여성회원수비중', '20대이하고객수비중', '30대고객수비중', '40대고객수비중', '50대고객수비중',\n",
       "       '60대이상고객수비중', 'text', '목적', 'address_map'],\n",
       "      dtype='object')"
      ]
     },
     "execution_count": 74,
     "metadata": {},
     "output_type": "execute_result"
    }
   ],
   "source": [
    "df.columns"
   ]
  },
  {
   "cell_type": "code",
   "execution_count": null,
   "metadata": {},
   "outputs": [],
   "source": [
    "import faiss\n",
    "import numpy as np\n",
    "import pandas as pd\n",
    "import torch\n",
    "from transformers import AutoTokenizer, AutoModel\n",
    "\n",
    "# Google Colab에서 GPU를 사용하도록 설정\n",
    "device = \"cuda\" if torch.cuda.is_available() else \"cpu\"\n",
    "\n",
    "# Hugging Face의 사전 학습된 임베딩 모델과 토크나이저 로드\n",
    "model_name = \"jhgan/ko-sroberta-multitask\"\n",
    "tokenizer = AutoTokenizer.from_pretrained(model_name)\n",
    "embedding_model = AutoModel.from_pretrained(model_name).to(device)\n",
    "\n",
    "# FAISS 인덱스 빌드 함수\n",
    "def build_faiss_index(restaurant_descriptions):\n",
    "    embeddings = []\n",
    "    for desc in restaurant_descriptions:\n",
    "        inputs = tokenizer(desc, return_tensors='pt', padding=True, truncation=True, max_length=512).to(device)\n",
    "        with torch.no_grad():\n",
    "            outputs = embedding_model(**inputs)\n",
    "        embeddings.append(outputs.last_hidden_state.mean(dim=1).cpu().squeeze().numpy())\n",
    "\n",
    "    embeddings = np.array(embeddings).astype('float32')\n",
    "\n",
    "    # FAISS index 생성 및 학습\n",
    "    dimension = embeddings.shape[1]\n",
    "    faiss_index = faiss.IndexFlatL2(dimension)\n",
    "    faiss_index.add(embeddings)\n",
    "\n",
    "    return faiss_index, embeddings\n",
    "\n",
    "\n",
    "\n",
    "# CSV 파일 로드 및 인덱스 생성\n",
    "file_path = \"/root/BigCon_genAI/data/modified_shinhancard_data_with_text.csv\"  # Google Colab에 업로드한 경로\n",
    "restaurant_data = pd.read_csv(file_path, usecols=['가맹점명', 'text'])\n",
    "print(restaurant_data.head())\n",
    "\n",
    "# FAISS 인덱스 빌드\n",
    "faiss_index, embeddings = build_faiss_index(restaurant_data['text'].fillna(\"정보 없음\").tolist())\n",
    "\n",
    "# FAISS 인덱스 저장\n",
    "faiss.write_index(faiss_index, '/root/BigCon_genAI/modules/modified_updated_text1_restaurant_faiss.index')\n",
    "np.save('/root/BigCon_genAI/modules/modified_updated_text1_restaurant_embeddings.npy', embeddings)\n",
    "\n",
    "print(\"FAISS 인덱스가 성공적으로 생성 및 저장되었습니다.\")\n"
   ]
  }
 ],
 "metadata": {
  "kernelspec": {
   "display_name": "Python 3",
   "language": "python",
   "name": "python3"
  },
  "language_info": {
   "codemirror_mode": {
    "name": "ipython",
    "version": 3
   },
   "file_extension": ".py",
   "mimetype": "text/x-python",
   "name": "python",
   "nbconvert_exporter": "python",
   "pygments_lexer": "ipython3",
   "version": "3.10.12"
  }
 },
 "nbformat": 4,
 "nbformat_minor": 2
}
